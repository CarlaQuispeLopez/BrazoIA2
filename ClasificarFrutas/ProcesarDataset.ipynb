{
 "cells": [
  {
   "cell_type": "code",
   "execution_count": null,
   "id": "3baf06be",
   "metadata": {},
   "outputs": [
    {
     "name": "stdout",
     "output_type": "stream",
     "text": [
      "Eliminando carpeta: C:\\Users\\MSI LAPTOP\\Desktop\\Modelo apra clasificar\\DatasetFrutas\\fruits-360_100x100\n",
      "Eliminando carpeta: C:\\Users\\MSI LAPTOP\\Desktop\\Modelo apra clasificar\\DatasetFrutas\\fruits-360_3-body-problem\n",
      "Eliminando carpeta: C:\\Users\\MSI LAPTOP\\Desktop\\Modelo apra clasificar\\DatasetFrutas\\fruits-360_dataset_meta\n",
      "Eliminando carpeta: C:\\Users\\MSI LAPTOP\\Desktop\\Modelo apra clasificar\\DatasetFrutas\\fruits-360_multi\n",
      "Eliminando carpeta: C:\\Users\\MSI LAPTOP\\Desktop\\Modelo apra clasificar\\DatasetFrutas\\fruits-360_original-size\n",
      " Limpieza completa. Solo quedaron las clases necesarias.\n"
     ]
    }
   ],
   "source": [
    "import os\n",
    "import shutil\n",
    "\n",
    "dataset_path = r\"C:\\Users\\MSI LAPTOP\\Desktop\\Modelo apra clasificar\\DatasetFrutas\"   \n",
    "\n",
    "clases_a_conservar = {\"Higo\", \"Uva\", \"Limón\", \"Ciruela\", \"Fresa\"}\n",
    "\n",
    "for carpeta in os.listdir(dataset_path):\n",
    "    carpeta_path = os.path.join(dataset_path, carpeta)\n",
    "\n",
    "    if os.path.isdir(carpeta_path) and carpeta.lower() not in clases_a_conservar:\n",
    "        print(f\"Eliminando carpeta: {carpeta_path}\")\n",
    "        shutil.rmtree(carpeta_path)\n",
    "\n",
    "print(\" Limpieza completa. Solo quedaron las clases necesarias.\")\n"
   ]
  },
  {
   "cell_type": "code",
   "execution_count": null,
   "id": "b7457522",
   "metadata": {},
   "outputs": [],
   "source": []
  }
 ],
 "metadata": {
  "kernelspec": {
   "display_name": "Python 3",
   "language": "python",
   "name": "python3"
  },
  "language_info": {
   "codemirror_mode": {
    "name": "ipython",
    "version": 3
   },
   "file_extension": ".py",
   "mimetype": "text/x-python",
   "name": "python",
   "nbconvert_exporter": "python",
   "pygments_lexer": "ipython3",
   "version": "3.11.9"
  }
 },
 "nbformat": 4,
 "nbformat_minor": 5
}
